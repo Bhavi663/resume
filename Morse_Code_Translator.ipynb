{
  "cells": [
    {
      "cell_type": "markdown",
      "metadata": {
        "id": "view-in-github",
        "colab_type": "text"
      },
      "source": [
        "<a href=\"https://colab.research.google.com/github/Bhavi663/resume/blob/main/Morse_Code_Translator.ipynb\" target=\"_parent\"><img src=\"https://colab.research.google.com/assets/colab-badge.svg\" alt=\"Open In Colab\"/></a>"
      ]
    },
    {
      "cell_type": "code",
      "execution_count": 2,
      "id": "f8395343-8eaf-4c73-914c-f407312833cf",
      "metadata": {
        "colab": {
          "base_uri": "https://localhost:8080/"
        },
        "id": "f8395343-8eaf-4c73-914c-f407312833cf",
        "outputId": "0403fc39-1db6-444d-ba08-726e02825fa8"
      },
      "outputs": [
        {
          "output_type": "stream",
          "name": "stdout",
          "text": [
            "Welcome to the Morse Code Translator!\n",
            "1: Translate Text to Morse Code\n",
            "2: Translate Morse Code to Text\n",
            "0: Exit\n",
            "\n",
            "Enter your choice: BHAVI\n",
            "Invalid choice. Please try again.\n",
            "\n",
            "Enter your choice: 1\n",
            "\n",
            "Enter text to translate to Morse Code: BHAVi\n",
            "Morse Code: -... .... .- ...- ..\n",
            "\n",
            "Enter your choice: 0\n",
            "Exiting the translator. Goodbye!\n"
          ]
        }
      ],
      "source": [
        "# Dictionary mapping characters to Morse Code\n",
        "morse_code_dict = {\n",
        "    'A': '.-', 'B': '-...', 'C': '-.-.', 'D': '-..', 'E': '.', 'F': '..-.', 'G': '--.', 'H': '....', 'I': '..', 'J': '.---',\n",
        "    'K': '-.-', 'L': '.-..', 'M': '--', 'N': '-.', 'O': '---', 'P': '.--.', 'Q': '--.-', 'R': '.-.', 'S': '...', 'T': '-',\n",
        "    'U': '..-', 'V': '...-', 'W': '.--', 'X': '-..-', 'Y': '-.--', 'Z': '--..', '0': '-----', '1': '.----', '2': '..---',\n",
        "    '3': '...--', '4': '....-', '5': '.....', '6': '-....', '7': '--...', '8': '---..', '9': '----.', '.': '.-.-.-',\n",
        "    ',': '--..--', '?': '..--..', \"'\": '.----.', '!': '-.-.--', '/': '-..-.', '(': '-.--.', ')': '-.--.-', '&': '.-...',\n",
        "    ':': '---...', ';': '-.-.-.', '=': '-...-', '+': '.-.-.', '-': '-....-', '_': '..--.-', '\"': '.-..-.', '$': '...-..-',\n",
        "    '@': '.--.-.', ' ': '/'\n",
        "}\n",
        "\n",
        "def translate_to_morse(text):\n",
        "    \"\"\"Translates text to Morse code.\"\"\"\n",
        "    text = text.upper().strip()\n",
        "    morse_code = \"\"\n",
        "    for char in text:\n",
        "        if char in morse_code_dict:\n",
        "            morse_code += morse_code_dict[char] + \" \"\n",
        "    return morse_code.strip()\n",
        "\n",
        "def translate_to_text(morse_code):\n",
        "    \"\"\"Translates Morse code to text.\"\"\"\n",
        "    morse_code = morse_code.strip().split(\" \")\n",
        "    text = \"\"\n",
        "    for code in morse_code:\n",
        "        for char, morse in morse_code_dict.items():\n",
        "            if morse == code:\n",
        "                text += char\n",
        "    return text\n",
        "\n",
        "# Interactive Interface for Colab\n",
        "def morse_code_translator():\n",
        "    print(\"Welcome to the Morse Code Translator!\")\n",
        "    print(\"1: Translate Text to Morse Code\")\n",
        "    print(\"2: Translate Morse Code to Text\")\n",
        "    print(\"0: Exit\")\n",
        "\n",
        "    while True:\n",
        "        choice = input(\"\\nEnter your choice: \").strip()\n",
        "        if choice == \"1\":\n",
        "            text = input(\"\\nEnter text to translate to Morse Code: \")\n",
        "            result = translate_to_morse(text)\n",
        "            print(f\"Morse Code: {result}\")\n",
        "        elif choice == \"2\":\n",
        "            morse = input(\"\\nEnter Morse Code to translate to Text: \")\n",
        "            result = translate_to_text(morse)\n",
        "            print(f\"Text: {result}\")\n",
        "        elif choice == \"0\":\n",
        "            print(\"Exiting the translator. Goodbye!\")\n",
        "            break\n",
        "        else:\n",
        "            print(\"Invalid choice. Please try again.\")\n",
        "\n",
        "# Run the translator\n",
        "morse_code_translator()\n"
      ]
    }
  ],
  "metadata": {
    "kernelspec": {
      "display_name": "Python 3 (ipykernel)",
      "language": "python",
      "name": "python3"
    },
    "language_info": {
      "codemirror_mode": {
        "name": "ipython",
        "version": 3
      },
      "file_extension": ".py",
      "mimetype": "text/x-python",
      "name": "python",
      "nbconvert_exporter": "python",
      "pygments_lexer": "ipython3",
      "version": "3.12.3"
    },
    "colab": {
      "provenance": [],
      "include_colab_link": true
    }
  },
  "nbformat": 4,
  "nbformat_minor": 5
}