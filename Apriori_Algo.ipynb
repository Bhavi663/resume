{
  "nbformat": 4,
  "nbformat_minor": 0,
  "metadata": {
    "colab": {
      "provenance": [],
      "authorship_tag": "ABX9TyNSXDD0SJzRhYe3ViTdwgZ+",
      "include_colab_link": true
    },
    "kernelspec": {
      "name": "python3",
      "display_name": "Python 3"
    },
    "language_info": {
      "name": "python"
    }
  },
  "cells": [
    {
      "cell_type": "markdown",
      "metadata": {
        "id": "view-in-github",
        "colab_type": "text"
      },
      "source": [
        "<a href=\"https://colab.research.google.com/github/Bhavi663/resume/blob/main/Apriori_Algo.ipynb\" target=\"_parent\"><img src=\"https://colab.research.google.com/assets/colab-badge.svg\" alt=\"Open In Colab\"/></a>"
      ]
    },
    {
      "cell_type": "code",
      "source": [
        "from itertools import combinations\n",
        "from collections import defaultdict\n",
        "import pandas as pd\n",
        "\n",
        "transactions = [\n",
        "    [\"Milk\", \"Bread\", \"Butter\"],\n",
        "    [\"Bread\", \"Butter\"],\n",
        "    [\"Milk\", \"Bread\", \"Sugar\"],\n",
        "    [\"Milk\", \"Sugar\"],\n",
        "    [\"Milk\", \"Bread\", \"Butter\", \"Sugar\"],\n",
        "    [\"Bread\", \"Sugar\"],\n",
        "    [\"Milk\", \"Bread\"]\n",
        "]\n",
        "\n",
        "\n",
        "def calculate_support(itemset, transactions):\n",
        "    count = sum(1 for transaction in transactions if set(itemset).issubset(set(transaction)))\n",
        "    return count / len(transactions)\n",
        "\n",
        "item_counts = defaultdict(int)\n",
        "for transaction in transactions:\n",
        "    for item in transaction:\n",
        "        item_counts[item] += 1\n",
        "\n",
        "min_support = 0.4\n",
        "frequent_1_itemsets = {item: count / len(transactions) for item, count in item_counts.items() if (count / len(transactions)) >= min_support}\n",
        "\n",
        "\n",
        "items = list(frequent_1_itemsets.keys())\n",
        "candidate_2_itemsets = list(combinations(items, 2))\n",
        "\n",
        "\n",
        "frequent_2_itemsets = {}\n",
        "for itemset in candidate_2_itemsets:\n",
        "    support = calculate_support(itemset, transactions)\n",
        "    if support >= min_support:\n",
        "        frequent_2_itemsets[itemset] = support\n",
        "\n",
        "\n",
        "rules = []\n",
        "confidence_threshold = 0.6\n",
        "\n",
        "for itemset, support in frequent_2_itemsets.items():\n",
        "    for item in itemset:\n",
        "        antecedent = [item]\n",
        "        consequent = list(set(itemset) - set(antecedent))\n",
        "        antecedent_support = calculate_support(antecedent, transactions)\n",
        "        confidence = support / antecedent_support\n",
        "        if confidence >= confidence_threshold:\n",
        "            consequent_support = calculate_support(consequent, transactions)\n",
        "            lift = confidence / consequent_support\n",
        "            rules.append({\n",
        "                \"Rule\": f\"{antecedent} -> {consequent}\",\n",
        "                \"Support\": round(support, 2),\n",
        "                \"Confidence\": round(confidence, 2),\n",
        "                \"Lift\": round(lift, 2)\n",
        "            })\n",
        "\n",
        "\n",
        "rules_df = pd.DataFrame(rules)\n",
        "\n",
        "\n",
        "print(\"Frequent 2-itemsets:\")\n",
        "for itemset, support in frequent_2_itemsets.items():\n",
        "    print(f\"{itemset}: {round(support, 2)}\")\n",
        "\n",
        "print(\"\\nAssociation Rules:\")\n",
        "print(rules_df)\n"
      ],
      "metadata": {
        "colab": {
          "base_uri": "https://localhost:8080/"
        },
        "id": "nOIb8CLBAYRa",
        "outputId": "8ec4df6c-da62-41be-9a1d-99866fc37591"
      },
      "execution_count": null,
      "outputs": [
        {
          "output_type": "stream",
          "name": "stdout",
          "text": [
            "Frequent 2-itemsets:\n",
            "('Milk', 'Bread'): 0.57\n",
            "('Milk', 'Sugar'): 0.43\n",
            "('Bread', 'Butter'): 0.43\n",
            "('Bread', 'Sugar'): 0.43\n",
            "\n",
            "Association Rules:\n",
            "                      Rule  Support  Confidence  Lift\n",
            "0    ['Milk'] -> ['Bread']     0.57        0.80  0.93\n",
            "1    ['Bread'] -> ['Milk']     0.57        0.67  0.93\n",
            "2    ['Milk'] -> ['Sugar']     0.43        0.60  1.05\n",
            "3    ['Sugar'] -> ['Milk']     0.43        0.75  1.05\n",
            "4  ['Butter'] -> ['Bread']     0.43        1.00  1.17\n",
            "5   ['Sugar'] -> ['Bread']     0.43        0.75  0.88\n"
          ]
        },
        {
          "output_type": "stream",
          "name": "stderr",
          "text": [
            "/usr/local/lib/python3.10/dist-packages/ipykernel/ipkernel.py:283: DeprecationWarning: `should_run_async` will not call `transform_cell` automatically in the future. Please pass the result to `transformed_cell` argument and any exception that happen during thetransform in `preprocessing_exc_tuple` in IPython 7.17 and above.\n",
            "  and should_run_async(code)\n"
          ]
        }
      ]
    }
  ]
}