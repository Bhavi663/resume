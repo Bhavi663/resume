{
  "cells": [
    {
      "cell_type": "markdown",
      "metadata": {
        "id": "view-in-github",
        "colab_type": "text"
      },
      "source": [
        "<a href=\"https://colab.research.google.com/github/Bhavi663/resume/blob/main/Web_Scraping.ipynb\" target=\"_parent\"><img src=\"https://colab.research.google.com/assets/colab-badge.svg\" alt=\"Open In Colab\"/></a>"
      ]
    },
    {
      "cell_type": "code",
      "execution_count": 1,
      "id": "0b6b017e-081b-483e-ab54-704adeae6e09",
      "metadata": {
        "colab": {
          "base_uri": "https://localhost:8080/"
        },
        "id": "0b6b017e-081b-483e-ab54-704adeae6e09",
        "outputId": "964ef88c-a327-403d-af63-c7a056d834b6"
      },
      "outputs": [
        {
          "output_type": "stream",
          "name": "stdout",
          "text": [
            "CSV file created successfully!\n"
          ]
        }
      ],
      "source": [
        "from bs4 import BeautifulSoup as bs\n",
        "import requests\n",
        "import csv\n",
        "author=[]\n",
        "dict={}\n",
        "for k in range(1,11,1):\n",
        "    if k==1:\n",
        "        response=requests.get('http://quotes.toscrape.com/')\n",
        "    else:\n",
        "        response= requests.get('http://quotes.toscrape.com/'+'/page/'+str(k)+'/')\n",
        "    data= bs(response.text,'html.parser')\n",
        "\n",
        "    lst=data.find_all(class_='author')\n",
        "    for j in lst:\n",
        "        author.append(j.string.strip())\n",
        "        dict[j.string.strip()]=dict.get(j.string.strip(),0)+1\n",
        "authors= sorted(set(author))\n",
        "csv_file_path = \"authors.csv\"\n",
        "\n",
        "# Write the data into the CSV file\n",
        "with open(csv_file_path, mode=\"w\", newline=\"\",encoding=\"utf-8\") as file:\n",
        "    writer = csv.writer(file)\n",
        "    writer.writerow([\"Authors Name\"])  # Write header row\n",
        "    writer.writerows([[movie] for movie in authors])\n",
        "\n",
        "print(\"CSV file created successfully!\")"
      ]
    }
  ],
  "metadata": {
    "kernelspec": {
      "display_name": "Python 3 (ipykernel)",
      "language": "python",
      "name": "python3"
    },
    "language_info": {
      "codemirror_mode": {
        "name": "ipython",
        "version": 3
      },
      "file_extension": ".py",
      "mimetype": "text/x-python",
      "name": "python",
      "nbconvert_exporter": "python",
      "pygments_lexer": "ipython3",
      "version": "3.12.3"
    },
    "colab": {
      "provenance": [],
      "include_colab_link": true
    }
  },
  "nbformat": 4,
  "nbformat_minor": 5
}